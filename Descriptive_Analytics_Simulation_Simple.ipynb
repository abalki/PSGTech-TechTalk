{
  "nbformat": 4,
  "nbformat_minor": 0,
  "metadata": {
    "colab": {
      "name": "Descriptive Analytics - Simulation - Simple.ipynb",
      "version": "0.3.2",
      "provenance": []
    },
    "kernelspec": {
      "name": "python3",
      "display_name": "Python 3"
    }
  },
  "cells": [
    {
      "metadata": {
        "id": "fGCI99QRXhXV",
        "colab_type": "text"
      },
      "cell_type": "markdown",
      "source": [
        "**Install Simpy**"
      ]
    },
    {
      "metadata": {
        "id": "oU_xR9hiW5wi",
        "colab_type": "code",
        "outputId": "98d6d6b5-b6a4-4c6f-b274-0bc944f984f0",
        "colab": {
          "base_uri": "https://localhost:8080/",
          "height": 91
        }
      },
      "cell_type": "code",
      "source": [
        "!pip install simpy"
      ],
      "execution_count": 1,
      "outputs": [
        {
          "output_type": "stream",
          "text": [
            "Collecting simpy\n",
            "  Downloading https://files.pythonhosted.org/packages/5a/64/8f0fc71400d41b6c2c6443d333a1cade458d23d4945ccda700c810ff6aae/simpy-3.0.11-py2.py3-none-any.whl\n",
            "Installing collected packages: simpy\n",
            "Successfully installed simpy-3.0.11\n"
          ],
          "name": "stdout"
        }
      ]
    },
    {
      "metadata": {
        "id": "VvhVjydeYv9w",
        "colab_type": "text"
      },
      "cell_type": "markdown",
      "source": [
        "**Import library(ies)**"
      ]
    },
    {
      "metadata": {
        "id": "h2df80PdXr-X",
        "colab_type": "code",
        "colab": {}
      },
      "cell_type": "code",
      "source": [
        "import simpy "
      ],
      "execution_count": 0,
      "outputs": []
    },
    {
      "metadata": {
        "id": "CWlgylB-Y9fT",
        "colab_type": "text"
      },
      "cell_type": "markdown",
      "source": [
        "**Simulate a road traffic light**"
      ]
    },
    {
      "metadata": {
        "id": "ac-101ygY9pU",
        "colab_type": "code",
        "colab": {}
      },
      "cell_type": "code",
      "source": [
        "def traffic_light(env): \n",
        "  while True: \n",
        "    print(\"Light turned GRN at t= \"+str(env.now)) \n",
        "    # Light stays GREEN for 30 seconds\n",
        "    yield env.timeout(30) \n",
        "    \n",
        "    print(\"Light turned YEL at t= \"+str(env.now))\n",
        "    # Light stays YELLOW for 5 seconds\n",
        "    yield env.timeout(5) \n",
        "    \n",
        "    print(\"Light turned RED at t= \"+str(env.now))\n",
        "    # Light stays RED for 20 seconds\n",
        "    yield env.timeout(20) "
      ],
      "execution_count": 0,
      "outputs": []
    },
    {
      "metadata": {
        "id": "zhbAXNxSY11i",
        "colab_type": "text"
      },
      "cell_type": "markdown",
      "source": [
        "**Main method**"
      ]
    },
    {
      "metadata": {
        "id": "54O04yR3Y2AT",
        "colab_type": "code",
        "outputId": "31e72615-ff77-4cb8-9ddd-2867736398f9",
        "colab": {
          "base_uri": "https://localhost:8080/",
          "height": 333
        }
      },
      "cell_type": "code",
      "source": [
        "def main():\n",
        "  # Create the simulation environment\n",
        "  env = simpy.Environment() \n",
        "  \n",
        "  # Spell out the method to be called for simulation processing\n",
        "  env.process(traffic_light(env)) \n",
        "  \n",
        "  # Set the limit until which the simulation needs to run\n",
        "  env.run(until=300) \n",
        "  \n",
        "  print(\"Simulation complete\") \n",
        "\n",
        "   \n",
        "if __name__ == '__main__': \n",
        "  main() "
      ],
      "execution_count": 4,
      "outputs": [
        {
          "output_type": "stream",
          "text": [
            "Light turned GRN at t= 0\n",
            "Light turned YEL at t= 30\n",
            "Light turned RED at t= 35\n",
            "Light turned GRN at t= 55\n",
            "Light turned YEL at t= 85\n",
            "Light turned RED at t= 90\n",
            "Light turned GRN at t= 110\n",
            "Light turned YEL at t= 140\n",
            "Light turned RED at t= 145\n",
            "Light turned GRN at t= 165\n",
            "Light turned YEL at t= 195\n",
            "Light turned RED at t= 200\n",
            "Light turned GRN at t= 220\n",
            "Light turned YEL at t= 250\n",
            "Light turned RED at t= 255\n",
            "Light turned GRN at t= 275\n",
            "Simulation complete\n"
          ],
          "name": "stdout"
        }
      ]
    }
  ]
}