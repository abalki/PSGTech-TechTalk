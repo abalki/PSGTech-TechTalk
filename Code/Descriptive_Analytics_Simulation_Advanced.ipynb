{
  "nbformat": 4,
  "nbformat_minor": 0,
  "metadata": {
    "colab": {
      "name": "Descriptive Analytics - Simulation - Advanced.ipynb",
      "version": "0.3.2",
      "provenance": []
    },
    "kernelspec": {
      "name": "python3",
      "display_name": "Python 3"
    }
  },
  "cells": [
    {
      "metadata": {
        "id": "kofO0P-_fhEv",
        "colab_type": "text"
      },
      "cell_type": "markdown",
      "source": [
        "# **Fuel Station Refueling example**\n",
        "\n",
        "## **Scenario:**\n",
        "### A fuel station has a limited number of fuel pumps that share a common fuel reservoir. Cars randomly arrive at the fuel station, request one of the fuel pumps and start refueling from that reservoir\n",
        "\n",
        "### A fuel station control process observes the fuel station's fuel level and calls a tank truck for refueling if the station's level drops below a threshold"
      ]
    },
    {
      "metadata": {
        "id": "fGCI99QRXhXV",
        "colab_type": "text"
      },
      "cell_type": "markdown",
      "source": [
        "**Install Simpy**"
      ]
    },
    {
      "metadata": {
        "id": "oU_xR9hiW5wi",
        "colab_type": "code",
        "outputId": "e4324838-07e5-4f2f-daa4-387540ec8d57",
        "colab": {
          "base_uri": "https://localhost:8080/",
          "height": 36
        }
      },
      "cell_type": "code",
      "source": [
        "!pip install simpy"
      ],
      "execution_count": 1,
      "outputs": [
        {
          "output_type": "stream",
          "text": [
            "Requirement already satisfied: simpy in /usr/local/lib/python3.6/dist-packages (3.0.11)\n"
          ],
          "name": "stdout"
        }
      ]
    },
    {
      "metadata": {
        "id": "w5K0LNL_gxrG",
        "colab_type": "text"
      },
      "cell_type": "markdown",
      "source": [
        "**Imports**"
      ]
    },
    {
      "metadata": {
        "id": "1vJdG27XfRjI",
        "colab_type": "code",
        "colab": {}
      },
      "cell_type": "code",
      "source": [
        "import itertools\n",
        "import random\n",
        "import simpy"
      ],
      "execution_count": 0,
      "outputs": []
    },
    {
      "metadata": {
        "id": "OEzowKeBhyGU",
        "colab_type": "text"
      },
      "cell_type": "markdown",
      "source": [
        "**Constants**"
      ]
    },
    {
      "metadata": {
        "id": "NYfFWYqphx-x",
        "colab_type": "code",
        "colab": {}
      },
      "cell_type": "code",
      "source": [
        "RANDOM_SEED = 42\n",
        "FUEL_STATION_SIZE = 200    # liters\n",
        "THRESHOLD = 10             # Threshold for calling the tank truck (in %)\n",
        "FUEL_TANK_SIZE = 50        # liters\n",
        "FUEL_TANK_LEVEL = [5, 25]  # Min/max levels of fuel tanks (in liters)\n",
        "REFUELING_SPEED = 2        # liters / second\n",
        "TANK_TRUCK_TIME = 300      # Seconds it takes the tank truck to arrive\n",
        "T_INTER = [30, 300]        # Create a car every [min, max] seconds\n",
        "SIM_TIME = 1000            # Simulation time in seconds"
      ],
      "execution_count": 0,
      "outputs": []
    },
    {
      "metadata": {
        "id": "qN_OWCcGg4AU",
        "colab_type": "text"
      },
      "cell_type": "markdown",
      "source": [
        "**A car arrives at the fuel station for refueling. It requests one of the fuel station's fuel pumps and tries to get the desired amount of fuel from it. If the stations reservoir is depleted, the car has to wait for the tank truck to arrive.**"
      ]
    },
    {
      "metadata": {
        "id": "FK1U0FSmg7ZN",
        "colab_type": "code",
        "colab": {}
      },
      "cell_type": "code",
      "source": [
        "def car(name, env, fuel_station, fuel_pump):\n",
        "\n",
        "    fuel_tank_level = random.randint(*FUEL_TANK_LEVEL)\n",
        "    print('%s arriving at fuel station at %.1f' % (name, env.now))\n",
        "    \n",
        "    with fuel_station.request() as req:\n",
        "        start = env.now\n",
        "        # Request one of the fuel pumps\n",
        "        yield req\n",
        "\n",
        "        # Get the required amount of fuel\n",
        "        liters_required = FUEL_TANK_SIZE - fuel_tank_level\n",
        "        yield fuel_pump.get(liters_required)\n",
        "\n",
        "        # The \"actual\" refueling process takes some time\n",
        "        yield env.timeout(liters_required / REFUELING_SPEED)\n",
        "\n",
        "        print('%s finished refueling in %.1f seconds.' % (name,\n",
        "                                                          env.now - start))"
      ],
      "execution_count": 0,
      "outputs": []
    },
    {
      "metadata": {
        "id": "jqKfAJGViOFa",
        "colab_type": "text"
      },
      "cell_type": "markdown",
      "source": [
        "**Periodically check the level of the *fuel_pump* and call the tank truck if the level falls below a threshold.**"
      ]
    },
    {
      "metadata": {
        "id": "wU9s9jhmiOQr",
        "colab_type": "code",
        "colab": {}
      },
      "cell_type": "code",
      "source": [
        "def fuel_station_control(env, fuel_pump):\n",
        "    \n",
        "    while True:\n",
        "        if fuel_pump.level / fuel_pump.capacity * 100 < THRESHOLD:\n",
        "          \n",
        "            # We need to call the tank truck now!\n",
        "            print('Calling tank truck at %d' % env.now)\n",
        "            \n",
        "            # Wait for the tank truck to arrive and refuel the station\n",
        "            yield env.process(tank_truck(env, fuel_pump))\n",
        "\n",
        "        yield env.timeout(10)  # Check every 10 seconds"
      ],
      "execution_count": 0,
      "outputs": []
    },
    {
      "metadata": {
        "id": "cARW--GPikd3",
        "colab_type": "text"
      },
      "cell_type": "markdown",
      "source": [
        "**Arrives at the fuel station after a certain delay and refuels it.**"
      ]
    },
    {
      "metadata": {
        "id": "SdTTDolBiklR",
        "colab_type": "code",
        "colab": {}
      },
      "cell_type": "code",
      "source": [
        "def tank_truck(env, fuel_pump):\n",
        "    \n",
        "    yield env.timeout(TANK_TRUCK_TIME)\n",
        "    print('Tank truck arriving at time %d' % env.now)\n",
        "    \n",
        "    ammount = fuel_pump.capacity - fuel_pump.level\n",
        "    print('Tank truck refuelling %.1f liters.' % ammount)\n",
        "    \n",
        "    yield fuel_pump.put(ammount)"
      ],
      "execution_count": 0,
      "outputs": []
    },
    {
      "metadata": {
        "id": "Ew9drzNzixuM",
        "colab_type": "text"
      },
      "cell_type": "markdown",
      "source": [
        "**Generate new cars that arrive at the fuel station.**"
      ]
    },
    {
      "metadata": {
        "id": "b6Q8iGoNix3r",
        "colab_type": "code",
        "colab": {}
      },
      "cell_type": "code",
      "source": [
        "def car_generator(env, fuel_station, fuel_pump):\n",
        "\n",
        "    for i in itertools.count():\n",
        "        yield env.timeout(random.randint(*T_INTER))\n",
        "        env.process(car('Car %d' % i, env, fuel_station, fuel_pump))"
      ],
      "execution_count": 0,
      "outputs": []
    },
    {
      "metadata": {
        "id": "S9sq9XfejAAq",
        "colab_type": "text"
      },
      "cell_type": "markdown",
      "source": [
        "**Execute Simulation**"
      ]
    },
    {
      "metadata": {
        "id": "3JYSU5wgjAKL",
        "colab_type": "code",
        "outputId": "c4674911-b3e3-4ce8-d975-33cdfd3318af",
        "colab": {
          "base_uri": "https://localhost:8080/",
          "height": 388
        }
      },
      "cell_type": "code",
      "source": [
        "# Setup and start the simulation\n",
        "print('Fuel Station refuelling')\n",
        "random.seed(RANDOM_SEED)\n",
        "\n",
        "# Create environment and start processes\n",
        "env = simpy.Environment()\n",
        "fuel_station = simpy.Resource(env, 2)\n",
        "fuel_pump = simpy.Container(env, FUEL_STATION_SIZE, init=FUEL_STATION_SIZE)\n",
        "env.process(fuel_station_control(env, fuel_pump))\n",
        "env.process(car_generator(env, fuel_station, fuel_pump))\n",
        "\n",
        "# Execute!\n",
        "env.run(until=SIM_TIME)"
      ],
      "execution_count": 8,
      "outputs": [
        {
          "output_type": "stream",
          "text": [
            "Fuel Station refuelling\n",
            "Car 0 arriving at fuel station at 87.0\n",
            "Car 0 finished refueling in 18.5 seconds.\n",
            "Car 1 arriving at fuel station at 129.0\n",
            "Car 1 finished refueling in 19.0 seconds.\n",
            "Car 2 arriving at fuel station at 284.0\n",
            "Car 2 finished refueling in 21.0 seconds.\n",
            "Car 3 arriving at fuel station at 385.0\n",
            "Car 3 finished refueling in 13.5 seconds.\n",
            "Car 4 arriving at fuel station at 459.0\n",
            "Calling tank truck at 460\n",
            "Car 4 finished refueling in 22.0 seconds.\n",
            "Car 5 arriving at fuel station at 705.0\n",
            "Car 6 arriving at fuel station at 750.0\n",
            "Tank truck arriving at time 760\n",
            "Tank truck refuelling 188.0 liters.\n",
            "Car 6 finished refueling in 29.0 seconds.\n",
            "Car 5 finished refueling in 76.5 seconds.\n",
            "Car 7 arriving at fuel station at 891.0\n",
            "Car 7 finished refueling in 13.0 seconds.\n"
          ],
          "name": "stdout"
        }
      ]
    }
  ]
}
