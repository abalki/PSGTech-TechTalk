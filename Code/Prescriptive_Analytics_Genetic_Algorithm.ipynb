{
  "nbformat": 4,
  "nbformat_minor": 0,
  "metadata": {
    "colab": {
      "name": "Prescriptive_Analytics_Genetic_Algorithm.ipynb",
      "version": "0.3.2",
      "provenance": [],
      "collapsed_sections": []
    },
    "kernelspec": {
      "name": "python3",
      "display_name": "Python 3"
    }
  },
  "cells": [
    {
      "metadata": {
        "id": "IkarY4t3TEWz",
        "colab_type": "text"
      },
      "cell_type": "markdown",
      "source": [
        "# Genetic algorithm to find 10 integers between 0 and 100 whose sum is = 900\n",
        "\n"
      ]
    },
    {
      "metadata": {
        "id": "TVYYJG72dAdO",
        "colab_type": "text"
      },
      "cell_type": "markdown",
      "source": [
        "**Imports**"
      ]
    },
    {
      "metadata": {
        "id": "X9ip6VGwc_9F",
        "colab_type": "code",
        "colab": {}
      },
      "cell_type": "code",
      "source": [
        "import numpy as np\n",
        "import matplotlib\n",
        "import matplotlib.pyplot as plt\n",
        "import random"
      ],
      "execution_count": 0,
      "outputs": []
    },
    {
      "metadata": {
        "id": "v-6cmpr6dLH0",
        "colab_type": "text"
      },
      "cell_type": "markdown",
      "source": [
        "## **Class Individual**\n",
        "\n",
        "### Our individuals will be made up of 10 initially random integers between 0 and 100. \n",
        "### The goal will be to get the sum of those 10 numbers to equal 900, and that’ll be the measure of how fit an individual is."
      ]
    },
    {
      "metadata": {
        "id": "QaNpyt0-dLPL",
        "colab_type": "code",
        "colab": {}
      },
      "cell_type": "code",
      "source": [
        "class Individual(object):\n",
        "\n",
        "    def __init__(self, numbers=None, mutate_prob=0.01):\n",
        "        if numbers is None:\n",
        "            self.numbers = np.random.randint(101, size=10)\n",
        "        else:\n",
        "            self.numbers = numbers\n",
        "            # Mutate\n",
        "            if mutate_prob > np.random.rand():\n",
        "                mutate_index = np.random.randint(len(self.numbers) - 1)\n",
        "                self.numbers[mutate_index] = np.random.randint(101)\n",
        "\n",
        "    def fitness(self):\n",
        "        \"\"\"\n",
        "            Returns fitness of individual\n",
        "            Fitness is the absolute difference between 900 and the sum of the individuals\n",
        "        \"\"\"\n",
        "        target_sum = 900\n",
        "        return abs(target_sum - np.sum(self.numbers))"
      ],
      "execution_count": 0,
      "outputs": []
    },
    {
      "metadata": {
        "id": "AHo8k-hCd0oU",
        "colab_type": "text"
      },
      "cell_type": "markdown",
      "source": [
        "## Class population\n",
        "### Populations are made up of individuals. \n",
        "### We’ll initialize a population with a population size of 100 individuals\n",
        "### Each individual will be randomly initalized. Then we’ll evolve the population to find an optimal solution."
      ]
    },
    {
      "metadata": {
        "id": "QHeYStO6SXkH",
        "colab_type": "code",
        "colab": {}
      },
      "cell_type": "code",
      "source": [
        "class Population(object):\n",
        "\n",
        "    def __init__(self, pop_size=10, mutate_prob=0.01, retain=0.2, random_retain=0.03):\n",
        "        \"\"\"\n",
        "            Args\n",
        "                pop_size: size of population\n",
        "                fitness_goal: goal that population will be graded against\n",
        "        \"\"\"\n",
        "        self.pop_size = pop_size\n",
        "        self.mutate_prob = mutate_prob\n",
        "        self.retain = retain\n",
        "        self.random_retain = random_retain\n",
        "        self.fitness_history = []\n",
        "        self.parents = []\n",
        "        self.done = False\n",
        "\n",
        "        # Create individuals\n",
        "        self.individuals = []\n",
        "        for x in range(pop_size):\n",
        "            self.individuals.append(Individual(numbers=None,mutate_prob=self.mutate_prob))\n",
        "\n",
        "    def grade(self, generation=None):\n",
        "        \"\"\"\n",
        "            Grade the generation by getting the average fitness of its individuals\n",
        "        \"\"\"\n",
        "        fitness_sum = 0\n",
        "        for x in self.individuals:\n",
        "            fitness_sum += x.fitness()\n",
        "\n",
        "        pop_fitness = fitness_sum / self.pop_size\n",
        "        self.fitness_history.append(pop_fitness)\n",
        "\n",
        "        # Set Done flag if we hit target\n",
        "        if int(round(pop_fitness)) == 0:\n",
        "            self.done = True\n",
        "\n",
        "        if generation is not None:\n",
        "            if generation % 5 == 0:\n",
        "                print(\"Episode\",generation,\"Population fitness:\", pop_fitness)\n",
        "\n",
        "    def select_parents(self):\n",
        "        \"\"\"\n",
        "            Select the fittest individuals to be the parents of next generation (lower fitness it better in this case)\n",
        "            Also select a some random non-fittest individuals to help get us out of local maximums\n",
        "        \"\"\"\n",
        "        # Sort individuals by fitness (we use reversed because in this case lower fintess is better)\n",
        "        self.individuals = list(reversed(sorted(self.individuals, key=lambda x: x.fitness(), reverse=True)))\n",
        "        # Keep the fittest as parents for next gen\n",
        "        retain_length = self.retain * len(self.individuals)\n",
        "        self.parents = self.individuals[:int(retain_length)]\n",
        "\n",
        "        # Randomly select some from unfittest and add to parents array\n",
        "        unfittest = self.individuals[int(retain_length):]\n",
        "        for unfit in unfittest:\n",
        "            if self.random_retain > np.random.rand():\n",
        "                self.parents.append(unfit)\n",
        "\n",
        "    def breed(self):\n",
        "        \"\"\"\n",
        "            Crossover the parents to generate children and new generation of individuals\n",
        "        \"\"\"\n",
        "        target_children_size = self.pop_size - len(self.parents)\n",
        "        children = []\n",
        "        if len(self.parents) > 0:\n",
        "            while len(children) < target_children_size:\n",
        "                father = random.choice(self.parents)\n",
        "                mother = random.choice(self.parents)\n",
        "                if father != mother:\n",
        "                    child_numbers = [ random.choice(pixel_pair) for pixel_pair in zip(father.numbers, mother.numbers)]\n",
        "                    child = Individual(child_numbers)\n",
        "                    children.append(child)\n",
        "            self.individuals = self.parents + children\n",
        "\n",
        "    def evolve(self):\n",
        "        # 1. Select fittest\n",
        "        self.select_parents()\n",
        "        # 2. Create children and new generation\n",
        "        self.breed()\n",
        "        # 3. Reset parents and children\n",
        "        self.parents = []\n",
        "        self.children = []"
      ],
      "execution_count": 0,
      "outputs": []
    },
    {
      "metadata": {
        "id": "N1UyvAGUTWWg",
        "colab_type": "text"
      },
      "cell_type": "markdown",
      "source": [
        "## Here are the basic steps for the evolution:\n",
        "\n",
        "### *   Select the fittest (sum is closest to 900) individuals to be the parents of the next generation. In this case a fitness of 0 will be the best because fitness is abs(900 — sum(individual.numbers))\n",
        "\n",
        "### *   We’ll randomly select some of the non-fittest individuals to be parents as well. This increases our chance of finding a global optimum.\n",
        "\n",
        "### *   Then we’ll breed or crossover the selected parents, creating new individuals, that we’ll call the children . Instead of randomly initializing the children, we’ll base them on the parents. When creating children, there’ll be a chance that the child will have a randommutatation of it’s numbers.\n",
        "\n",
        "### *   The parents and the children will form part of the next generation. Calculate the average population fitness. Repeat.\n",
        "\n",
        "### *   When we hit an average population fitness of 0 (or close to it) we’ll stop evolving. Normally it’s more intuitive to have a higher fitness be better than a lower fitness, in our case our convention is that lower fitness is better.\n",
        "\n",
        "\n",
        "\n",
        "\n",
        "\n"
      ]
    },
    {
      "metadata": {
        "id": "y_-j_aDCUR_I",
        "colab_type": "code",
        "outputId": "04286598-aa43-40cc-8198-bce4e3fffa7d",
        "colab": {
          "base_uri": "https://localhost:8080/",
          "height": 599
        }
      },
      "cell_type": "code",
      "source": [
        "if __name__ == \"__main__\":\n",
        "    pop_size = 1000\n",
        "    mutate_prob = 0.01\n",
        "    retain = 0.1\n",
        "    random_retain = 0.03\n",
        "\n",
        "    pop = Population(pop_size=pop_size, mutate_prob=mutate_prob, retain=retain, random_retain=random_retain)\n",
        "\n",
        "    SHOW_PLOT = True\n",
        "    GENERATIONS = 5000\n",
        "    for x in range(GENERATIONS):\n",
        "        pop.grade(generation=x)\n",
        "        pop.evolve()\n",
        "\n",
        "        if pop.done:\n",
        "            print(\"Finished at generation:\", x, \", Population fitness:\", pop.fitness_history[-1])\n",
        "            break\n",
        "\n",
        "    # Plot fitness history\n",
        "    if SHOW_PLOT:\n",
        "        print(\"Showing fitness history graph\")\n",
        "       \n",
        "        plt.plot(np.arange(len(pop.fitness_history)), pop.fitness_history)\n",
        "        plt.ylabel('Fitness')\n",
        "        plt.xlabel('Generations')\n",
        "        plt.title('Fitness - pop_size {} mutate_prob {} retain {} random_retain {}'.format(pop_size, mutate_prob, retain, random_retain))\n",
        "        plt.show()"
      ],
      "execution_count": 7,
      "outputs": [
        {
          "output_type": "stream",
          "text": [
            "Episode 0 Population fitness: 404.931\n",
            "Episode 5 Population fitness: 23.497\n",
            "Episode 10 Population fitness: 12.908\n",
            "Episode 15 Population fitness: 13.445\n",
            "Episode 20 Population fitness: 13.232\n",
            "Episode 25 Population fitness: 14.0\n",
            "Episode 30 Population fitness: 13.814\n",
            "Episode 35 Population fitness: 13.555\n",
            "Episode 40 Population fitness: 5.749\n",
            "Episode 45 Population fitness: 0.808\n",
            "Finished at generation: 46 , Population fitness: 0.13\n",
            "Showing fitness history graph\n"
          ],
          "name": "stdout"
        },
        {
          "output_type": "display_data",
          "data": {
            "image/png": "[encoded data removed]",
            "text/plain": [
              "<matplotlib.figure.Figure at 0x7fd679f5bef0>"
            ]
          },
          "metadata": {
            "tags": []
          }
        }
      ]
    }
  ]
}
