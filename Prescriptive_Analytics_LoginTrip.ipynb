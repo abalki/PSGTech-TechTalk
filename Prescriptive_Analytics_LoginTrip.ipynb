{
  "nbformat": 4,
  "nbformat_minor": 0,
  "metadata": {
    "colab": {
      "name": "Prescriptive Analytics - LoginTrip.ipynb",
      "version": "0.3.2",
      "provenance": [],
      "collapsed_sections": []
    },
    "kernelspec": {
      "name": "python3",
      "display_name": "Python 3"
    }
  },
  "cells": [
    {
      "metadata": {
        "id": "0hN7AiKlC_gU",
        "colab_type": "text"
      },
      "cell_type": "markdown",
      "source": [
        "### The Department of Applied Mathematics and Computational Sciences (DAMCS) is planning a day long Login trip for 400 students. The company providing the transportation has 10 buses of 50 seats each and 8 buses of 40 seats, but only has 9 drivers available. The rental cost for a large bus is Rs. 800 and Rs. 600 for the small bus. Calculate how many buses of each type should be used for the trip with the least possible cost\n"
      ]
    },
    {
      "metadata": {
        "id": "lWHNbOFND-3S",
        "colab_type": "text"
      },
      "cell_type": "markdown",
      "source": [
        "**We will begin by installing pulp**"
      ]
    },
    {
      "metadata": {
        "id": "nL-nRtlAAkv6",
        "colab_type": "code",
        "outputId": "dff2f6ae-5978-4e5f-be1f-16eba6e838ad",
        "colab": {
          "base_uri": "https://localhost:8080/",
          "height": 203
        }
      },
      "cell_type": "code",
      "source": [
        "!pip install pulp"
      ],
      "execution_count": 1,
      "outputs": [
        {
          "output_type": "stream",
          "text": [
            "Collecting pulp\n",
            "\u001b[?25l  Downloading https://files.pythonhosted.org/packages/91/cd/8ed5d788973f6632cc44d0e95c486646c090c427c90667c901b75e544bc1/PuLP-1.6.9.zip (13.6MB)\n",
            "\u001b[K    100% |████████████████████████████████| 13.6MB 2.2MB/s \n",
            "\u001b[?25hRequirement already satisfied: pyparsing>=2.0.1 in /usr/local/lib/python3.6/dist-packages (from pulp) (2.3.0)\n",
            "Building wheels for collected packages: pulp\n",
            "  Running setup.py bdist_wheel for pulp ... \u001b[?25l-\b \b\\\b \b|\b \b/\b \b-\b \b\\\b \b|\b \bdone\n",
            "\u001b[?25h  Stored in directory: /root/.cache/pip/wheels/3b/f1/f5/f6d0aac56dd154c2593d3fa5e901aa9bc32a51bd8594b4bf8e\n",
            "Successfully built pulp\n",
            "Installing collected packages: pulp\n",
            "Successfully installed pulp-1.6.9\n"
          ],
          "name": "stdout"
        }
      ]
    },
    {
      "metadata": {
        "colab_type": "text",
        "id": "1BWpl-NREUea"
      },
      "cell_type": "markdown",
      "source": [
        "**Import pulp**"
      ]
    },
    {
      "metadata": {
        "colab_type": "code",
        "id": "UceRdTMxEUez",
        "colab": {}
      },
      "cell_type": "code",
      "source": [
        "import pulp"
      ],
      "execution_count": 0,
      "outputs": []
    },
    {
      "metadata": {
        "id": "jFEHvY3LEnIo",
        "colab_type": "text"
      },
      "cell_type": "markdown",
      "source": [
        "**Then instantiate a problem class, we'll name it \"LoginTrip\" and we're looking for an optimal minimum so we use LpMinimize**"
      ]
    },
    {
      "metadata": {
        "id": "5WpIhkLCEfFR",
        "colab_type": "code",
        "colab": {}
      },
      "cell_type": "code",
      "source": [
        "model = pulp.LpProblem(\"LoginTrip\", pulp.LpMinimize)"
      ],
      "execution_count": 0,
      "outputs": []
    },
    {
      "metadata": {
        "id": "EjZw83f1ZoMv",
        "colab_type": "text"
      },
      "cell_type": "markdown",
      "source": [
        "**Feed the necessary input data**"
      ]
    },
    {
      "metadata": {
        "id": "E02VT3awE98i",
        "colab_type": "code",
        "colab": {}
      },
      "cell_type": "code",
      "source": [
        "num_of_students              = 400\n",
        "cost_of_small_bus            = 600\n",
        "cost_of_big_bus              = 800\n",
        "num_of_seats_in_small_bus    = 40\n",
        "num_of_seats_in_big_bus      = 50\n",
        "num_of_drivers_available     = 9\n",
        "num_of_small_buses_available = 8\n",
        "num_of_big_buses_available   = 10"
      ],
      "execution_count": 0,
      "outputs": []
    },
    {
      "metadata": {
        "id": "SCB7GTsIE-I5",
        "colab_type": "text"
      },
      "cell_type": "markdown",
      "source": [
        "**Add decision variables (Since it is number of buses required, we keep them as Integers)**"
      ]
    },
    {
      "metadata": {
        "id": "QDMiWAv1LuK5",
        "colab_type": "code",
        "colab": {}
      },
      "cell_type": "code",
      "source": [
        "small_buses_reqd = pulp.LpVariable('small_buses_reqd', lowBound=0, cat='Integer')\n",
        "big_buses_reqd   = pulp.LpVariable('big_buses_reqd', lowBound=0, cat='Integer')"
      ],
      "execution_count": 0,
      "outputs": []
    },
    {
      "metadata": {
        "id": "yyXNNbyUE-bU",
        "colab_type": "text"
      },
      "cell_type": "markdown",
      "source": [
        "**Objective function**"
      ]
    },
    {
      "metadata": {
        "id": "65p9sijqE-TC",
        "colab_type": "code",
        "colab": {}
      },
      "cell_type": "code",
      "source": [
        "model += cost_of_small_bus * small_buses_reqd + cost_of_big_bus * big_buses_reqd , \"TotalCost\""
      ],
      "execution_count": 0,
      "outputs": []
    },
    {
      "metadata": {
        "id": "ziH6ZMZIE-p4",
        "colab_type": "text"
      },
      "cell_type": "markdown",
      "source": [
        "**Constraints**"
      ]
    },
    {
      "metadata": {
        "id": "dm0yIUOoacxP",
        "colab_type": "code",
        "colab": {}
      },
      "cell_type": "code",
      "source": [
        "model += num_of_seats_in_small_bus * small_buses_reqd + num_of_seats_in_big_bus * big_buses_reqd >= num_of_students\n",
        "model += small_buses_reqd + big_buses_reqd <= num_of_drivers_available\n",
        "model += small_buses_reqd <= num_of_small_buses_available\n",
        "model += big_buses_reqd <= num_of_big_buses_available"
      ],
      "execution_count": 0,
      "outputs": []
    },
    {
      "metadata": {
        "id": "QbFmaLRgE_dD",
        "colab_type": "text"
      },
      "cell_type": "markdown",
      "source": [
        "**See if the model is correct with the right objectives and constraints**"
      ]
    },
    {
      "metadata": {
        "id": "Duh5ddIKE-i4",
        "colab_type": "code",
        "outputId": "ffac7df2-2315-4e49-9448-b463f3d80a11",
        "colab": {
          "base_uri": "https://localhost:8080/",
          "height": 296
        }
      },
      "cell_type": "code",
      "source": [
        "model"
      ],
      "execution_count": 8,
      "outputs": [
        {
          "output_type": "execute_result",
          "data": {
            "text/plain": [
              "LoginTrip:\n",
              "MINIMIZE\n",
              "800*big_buses_reqd + 600*small_buses_reqd + 0\n",
              "SUBJECT TO\n",
              "_C1: 50 big_buses_reqd + 40 small_buses_reqd >= 400\n",
              "\n",
              "_C2: big_buses_reqd + small_buses_reqd <= 9\n",
              "\n",
              "_C3: small_buses_reqd <= 8\n",
              "\n",
              "_C4: big_buses_reqd <= 10\n",
              "\n",
              "VARIABLES\n",
              "0 <= big_buses_reqd Integer\n",
              "0 <= small_buses_reqd Integer"
            ]
          },
          "metadata": {
            "tags": []
          },
          "execution_count": 8
        }
      ]
    },
    {
      "metadata": {
        "id": "A18ABwFFauoO",
        "colab_type": "text"
      },
      "cell_type": "markdown",
      "source": [
        "**Solve the model**"
      ]
    },
    {
      "metadata": {
        "id": "2EPYPeFlE-xG",
        "colab_type": "code",
        "outputId": "1464d7b0-afe5-43c6-cf9c-235d199f1786",
        "colab": {
          "base_uri": "https://localhost:8080/",
          "height": 36
        }
      },
      "cell_type": "code",
      "source": [
        "model.solve()\n",
        "pulp.LpStatus[model.status]"
      ],
      "execution_count": 9,
      "outputs": [
        {
          "output_type": "execute_result",
          "data": {
            "text/plain": [
              "'Optimal'"
            ]
          },
          "metadata": {
            "tags": []
          },
          "execution_count": 9
        }
      ]
    },
    {
      "metadata": {
        "id": "wZ7EJBOZE-4_",
        "colab_type": "text"
      },
      "cell_type": "markdown",
      "source": [
        "**Print the results**"
      ]
    },
    {
      "metadata": {
        "id": "V7tPdqWoE_AB",
        "colab_type": "code",
        "outputId": "c9af0d48-443f-437b-d230-553ac3b0465c",
        "colab": {
          "base_uri": "https://localhost:8080/",
          "height": 54
        }
      },
      "cell_type": "code",
      "source": [
        "for variable in model.variables():\n",
        "    print(\"{} = {}\".format(variable.name, variable.varValue))"
      ],
      "execution_count": 10,
      "outputs": [
        {
          "output_type": "stream",
          "text": [
            "big_buses_reqd = 4.0\n",
            "small_buses_reqd = 5.0\n"
          ],
          "name": "stdout"
        }
      ]
    },
    {
      "metadata": {
        "id": "9ViyLhAJE_HQ",
        "colab_type": "text"
      },
      "cell_type": "markdown",
      "source": [
        "**Print the objective value (TotalCost)**"
      ]
    },
    {
      "metadata": {
        "id": "0rV3vS20E_PU",
        "colab_type": "code",
        "outputId": "2bb2385a-f7be-4a97-ba29-a14403f8b52c",
        "colab": {
          "base_uri": "https://localhost:8080/",
          "height": 36
        }
      },
      "cell_type": "code",
      "source": [
        "print(pulp.value(model.objective))"
      ],
      "execution_count": 11,
      "outputs": [
        {
          "output_type": "stream",
          "text": [
            "6200.0\n"
          ],
          "name": "stdout"
        }
      ]
    }
  ]
}